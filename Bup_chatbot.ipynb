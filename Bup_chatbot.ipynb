{
  "nbformat": 4,
  "nbformat_minor": 0,
  "metadata": {
    "colab": {
      "provenance": [],
      "authorship_tag": "ABX9TyNpyFWMnkgSLjOCEWf4a9J7",
      "include_colab_link": true
    },
    "kernelspec": {
      "name": "python3",
      "display_name": "Python 3"
    },
    "language_info": {
      "name": "python"
    }
  },
  "cells": [
    {
      "cell_type": "markdown",
      "metadata": {
        "id": "view-in-github",
        "colab_type": "text"
      },
      "source": [
        "<a href=\"https://colab.research.google.com/github/Muttakin18/Muttakin18/blob/main/Bup_chatbot.ipynb\" target=\"_parent\"><img src=\"https://colab.research.google.com/assets/colab-badge.svg\" alt=\"Open In Colab\"/></a>"
      ]
    },
    {
      "cell_type": "code",
      "execution_count": null,
      "metadata": {
        "colab": {
          "base_uri": "https://localhost:8080/"
        },
        "id": "RpLBnuCb-9mr",
        "outputId": "851c4ed0-79ae-48a7-c8a6-05d2d358a99e"
      },
      "outputs": [
        {
          "output_type": "stream",
          "name": "stdout",
          "text": [
            "🤖 BUP Chatbot: Hello! Ask me anything about Bangladesh University of Professionals (type 'exit' to quit).\n",
            "You: When was BUP established?\n",
            "🤖 BUP Chatbot: BUP was established in 2008.\n",
            "You: What does BUP stand for?\n",
            "🤖 BUP Chatbot: Sorry, I don't have that information yet. Try asking about faculties, departments, or admission.\n",
            "You: Where is BUP located?\n",
            "🤖 BUP Chatbot: BUP is located at Mirpur Cantonment, Dhaka, Bangladesh.\n",
            "You: What is the motto of BUP?\n",
            "🤖 BUP Chatbot: BUP’s motto is: Excellence through knowledge.\n"
          ]
        }
      ],
      "source": [
        "import json\n",
        "\n",
        "# Load JSON knowledge base\n",
        "with open(\"bup_data.json\", \"r\", encoding=\"utf-8\") as file:\n",
        "    bup_data = json.load(file)\n",
        "\n",
        "# Helper function to search the data\n",
        "def find_answer(question):\n",
        "    question = question.lower()\n",
        "\n",
        "    # Basic keyword-based matching\n",
        "    if \"established\" in question:\n",
        "        return f\"BUP was established in {bup_data['established']}.\"\n",
        "    elif \"location\" in question or \"where\" in question:\n",
        "        return f\"BUP is located at {bup_data['location']}.\"\n",
        "    elif \"vice chancellor\" in question:\n",
        "        return f\"The current Vice Chancellor of BUP is {bup_data['vice_chancellor']}.\"\n",
        "    elif \"faculty\" in question:\n",
        "        faculties = \", \".join([f\"{key} ({data['name']})\" for key, data in bup_data['faculties'].items()])\n",
        "        return f\"BUP has the following faculties: {faculties}.\"\n",
        "    elif \"department\" in question:\n",
        "        return \"Each faculty has several departments. For example, Faculty of Business Studies includes: \" + \\\n",
        "               \", \".join(bup_data['faculties']['FBS']['departments']) + \".\"\n",
        "    elif \"admission\" in question or \"apply\" in question:\n",
        "        return bup_data['admission']['procedure']\n",
        "    elif \"requirement\" in question:\n",
        "        return bup_data['admission']['requirements']\n",
        "    elif \"test\" in question or \"exam\" in question:\n",
        "        return bup_data['admission']['test_format']\n",
        "    elif \"club\" in question or \"society\" in question:\n",
        "        return \"BUP has various student clubs such as: \" + \", \".join(bup_data['facilities']['clubs']) + \".\"\n",
        "    elif \"library\" in question:\n",
        "        return bup_data['facilities']['library']\n",
        "    elif \"hostel\" in question or \"dormitory\" in question:\n",
        "        return bup_data['facilities']['hostel']\n",
        "    elif \"contact\" in question or \"email\" in question:\n",
        "        return f\"You can contact BUP via email at {bup_data['contact']['email']} or visit {bup_data['contact']['website']}.\"\n",
        "    elif \"motto\" in question:\n",
        "        return f\"BUP’s motto is: {bup_data['motto']}.\"\n",
        "    else:\n",
        "        return \"Sorry, I don't have that information yet. Try asking about faculties, departments, or admission.\"\n",
        "\n",
        "# Chat loop\n",
        "print(\"🤖 BUP Chatbot: Hello! Ask me anything about Bangladesh University of Professionals (type 'exit' to quit).\")\n",
        "while True:\n",
        "    user_input = input(\"You: \")\n",
        "    if user_input.lower() in [\"exit\", \"quit\"]:\n",
        "        print(\"🤖 BUP Chatbot: Goodbye!\")\n",
        "        break\n",
        "    print(\"🤖 BUP Chatbot:\", find_answer(user_input))\n"
      ]
    }
  ]
}